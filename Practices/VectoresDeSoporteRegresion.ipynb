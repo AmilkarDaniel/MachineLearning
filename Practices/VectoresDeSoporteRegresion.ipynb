{
  "nbformat": 4,
  "nbformat_minor": 0,
  "metadata": {
    "colab": {
      "provenance": [],
      "authorship_tag": "ABX9TyPL+oY6P5zjUf54lzaxCLIW",
      "include_colab_link": true
    },
    "kernelspec": {
      "name": "python3",
      "display_name": "Python 3"
    },
    "language_info": {
      "name": "python"
    }
  },
  "cells": [
    {
      "cell_type": "markdown",
      "metadata": {
        "id": "view-in-github",
        "colab_type": "text"
      },
      "source": [
        "<a href=\"https://colab.research.google.com/github/AmilkarDaniel/MachineLearning/blob/main/Practices/VectoresDeSoporteRegresion.ipynb\" target=\"_parent\"><img src=\"https://colab.research.google.com/assets/colab-badge.svg\" alt=\"Open In Colab\"/></a>"
      ]
    },
    {
      "cell_type": "code",
      "execution_count": 1,
      "metadata": {
        "colab": {
          "base_uri": "https://localhost:8080/"
        },
        "id": "oaXhml_n_NvU",
        "outputId": "799ccde1-080f-4eb0-cfb9-6fdbac79447b"
      },
      "outputs": [
        {
          "output_type": "stream",
          "name": "stderr",
          "text": [
            "/usr/local/lib/python3.7/dist-packages/sklearn/utils/deprecation.py:87: FutureWarning: Function load_boston is deprecated; `load_boston` is deprecated in 1.0 and will be removed in 1.2.\n",
            "\n",
            "    The Boston housing prices dataset has an ethical problem. You can refer to\n",
            "    the documentation of this function for further details.\n",
            "\n",
            "    The scikit-learn maintainers therefore strongly discourage the use of this\n",
            "    dataset unless the purpose of the code is to study and educate about\n",
            "    ethical issues in data science and machine learning.\n",
            "\n",
            "    In this special case, you can fetch the dataset from the original\n",
            "    source::\n",
            "\n",
            "        import pandas as pd\n",
            "        import numpy as np\n",
            "\n",
            "\n",
            "        data_url = \"http://lib.stat.cmu.edu/datasets/boston\"\n",
            "        raw_df = pd.read_csv(data_url, sep=\"\\s+\", skiprows=22, header=None)\n",
            "        data = np.hstack([raw_df.values[::2, :], raw_df.values[1::2, :2]])\n",
            "        target = raw_df.values[1::2, 2]\n",
            "\n",
            "    Alternative datasets include the California housing dataset (i.e.\n",
            "    :func:`~sklearn.datasets.fetch_california_housing`) and the Ames housing\n",
            "    dataset. You can load the datasets as follows::\n",
            "\n",
            "        from sklearn.datasets import fetch_california_housing\n",
            "        housing = fetch_california_housing()\n",
            "\n",
            "    for the California housing dataset and::\n",
            "\n",
            "        from sklearn.datasets import fetch_openml\n",
            "        housing = fetch_openml(name=\"house_prices\", as_frame=True)\n",
            "\n",
            "    for the Ames housing dataset.\n",
            "    \n",
            "  warnings.warn(msg, category=FutureWarning)\n"
          ]
        }
      ],
      "source": [
        "import numpy as np\n",
        "from sklearn import datasets, linear_model\n",
        "import matplotlib.pyplot as plt\n",
        "boston = datasets.load_boston()"
      ]
    },
    {
      "cell_type": "code",
      "source": [
        "######PREPARAR LA DATA VECTORES DE SOPORTE DE REGRESION#######\n",
        "\n",
        "#Seleccionamos solamente la columna 6 del dataset\n",
        "X_svr = boston.data[:, np.newaxis, 5]\n",
        "\n",
        "#Defino los datos correspondientes a las etquetas\n",
        "y_svr = boston.target"
      ],
      "metadata": {
        "id": "dpSIQHlc_S5q"
      },
      "execution_count": 2,
      "outputs": []
    },
    {
      "cell_type": "code",
      "source": [
        "#graficamos los datos correspondientes\n",
        "plt.scatter(X_svr, y_svr)\n",
        "plt.show()"
      ],
      "metadata": {
        "colab": {
          "base_uri": "https://localhost:8080/",
          "height": 265
        },
        "id": "EXVG746-_zJx",
        "outputId": "fa1743ff-2c93-4289-f489-4a7d14b420b7"
      },
      "execution_count": 3,
      "outputs": [
        {
          "output_type": "display_data",
          "data": {
            "text/plain": [
              "<Figure size 432x288 with 1 Axes>"
            ],
            "image/png": "[encoded data removed]"
          },
          "metadata": {
            "needs_background": "light"
          }
        }
      ]
    },
    {
      "cell_type": "code",
      "source": [
        "########IMPLEMENTACIÓN DE VECTORES DE SOPORTE REGRESIÓN ##########\n",
        "from sklearn.model_selection import train_test_split\n",
        "#Separo los datos de \"train\" en entrenamiento y prueba para probar los algoritmos\n",
        "X_train, X_test, y_train, y_test = train_test_split(X_svr, y_svr, test_size=0.2)\n",
        "from sklearn. svm import SVR\n",
        "#Defino el algoritmo a utilizar\n",
        "svr = SVR(kernel='linear', C=1.0, epsilon=0.2)"
      ],
      "metadata": {
        "id": "eP8rOyut_84i"
      },
      "execution_count": 10,
      "outputs": []
    },
    {
      "cell_type": "code",
      "source": [
        "#Entreno el modelo\n",
        "svr.fit(X_train, y_train)\n",
        "#Realizo una prediccion\n",
        "Y_pred = svr.predict(X_test)"
      ],
      "metadata": {
        "id": "yUErYTt_A09i"
      },
      "execution_count": 12,
      "outputs": []
    },
    {
      "cell_type": "code",
      "source": [
        "#Graficamos los datos junto connel modelo\n",
        "plt.scatter(X_test, y_test)\n",
        "plt.plot(X_test, Y_pred, color = 'red', linewidth = 3)\n",
        "plt.show()\n"
      ],
      "metadata": {
        "colab": {
          "base_uri": "https://localhost:8080/",
          "height": 265
        },
        "id": "eSGTeNbFBntT",
        "outputId": "ef4a808b-2617-4959-f945-a95dfd6fe1a7"
      },
      "execution_count": 14,
      "outputs": [
        {
          "output_type": "display_data",
          "data": {
            "text/plain": [
              "<Figure size 432x288 with 1 Axes>"
            ],
            "image/png": "[encoded data removed]"
          },
          "metadata": {
            "needs_background": "light"
          }
        }
      ]
    },
    {
      "cell_type": "code",
      "source": [
        "print('DATOS DEL MODELO VECTORES DE SOPORTE REGRESION')\n",
        "print('Presision del modelo')\n",
        "print(svr.score(X_train, y_train))"
      ],
      "metadata": {
        "colab": {
          "base_uri": "https://localhost:8080/"
        },
        "id": "I5U9No8iBbfU",
        "outputId": "692ee7be-7ce4-4172-e155-f4634475452c"
      },
      "execution_count": 15,
      "outputs": [
        {
          "output_type": "stream",
          "name": "stdout",
          "text": [
            "DATOS DEL MODELO VECTORES DE SOPORTE REGRESION\n",
            "Presision del modelo\n",
            "0.46963864921975107\n"
          ]
        }
      ]
    },
    {
      "cell_type": "code",
      "source": [],
      "metadata": {
        "id": "d_TpM1s1CqEN"
      },
      "execution_count": null,
      "outputs": []
    }
  ]
}