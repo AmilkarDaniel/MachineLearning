{
  "nbformat": 4,
  "nbformat_minor": 0,
  "metadata": {
    "colab": {
      "provenance": [],
      "authorship_tag": "ABX9TyNr1DVbNThnuFT3townwM/U",
      "include_colab_link": true
    },
    "kernelspec": {
      "name": "python3",
      "display_name": "Python 3"
    },
    "language_info": {
      "name": "python"
    }
  },
  "cells": [
    {
      "cell_type": "markdown",
      "metadata": {
        "id": "view-in-github",
        "colab_type": "text"
      },
      "source": [
        "<a href=\"https://colab.research.google.com/github/AmilkarDaniel/MachineLearning/blob/main/Practices/RegresionPolinmial.ipynb\" target=\"_parent\"><img src=\"https://colab.research.google.com/assets/colab-badge.svg\" alt=\"Open In Colab\"/></a>"
      ]
    },
    {
      "cell_type": "code",
      "execution_count": 1,
      "metadata": {
        "colab": {
          "base_uri": "https://localhost:8080/"
        },
        "id": "FYqsM62iWtM4",
        "outputId": "dbe88f2e-d417-4cd7-83b5-52aaa1ac6fa9"
      },
      "outputs": [
        {
          "output_type": "stream",
          "name": "stderr",
          "text": [
            "/usr/local/lib/python3.7/dist-packages/sklearn/utils/deprecation.py:87: FutureWarning: Function load_boston is deprecated; `load_boston` is deprecated in 1.0 and will be removed in 1.2.\n",
            "\n",
            "    The Boston housing prices dataset has an ethical problem. You can refer to\n",
            "    the documentation of this function for further details.\n",
            "\n",
            "    The scikit-learn maintainers therefore strongly discourage the use of this\n",
            "    dataset unless the purpose of the code is to study and educate about\n",
            "    ethical issues in data science and machine learning.\n",
            "\n",
            "    In this special case, you can fetch the dataset from the original\n",
            "    source::\n",
            "\n",
            "        import pandas as pd\n",
            "        import numpy as np\n",
            "\n",
            "\n",
            "        data_url = \"http://lib.stat.cmu.edu/datasets/boston\"\n",
            "        raw_df = pd.read_csv(data_url, sep=\"\\s+\", skiprows=22, header=None)\n",
            "        data = np.hstack([raw_df.values[::2, :], raw_df.values[1::2, :2]])\n",
            "        target = raw_df.values[1::2, 2]\n",
            "\n",
            "    Alternative datasets include the California housing dataset (i.e.\n",
            "    :func:`~sklearn.datasets.fetch_california_housing`) and the Ames housing\n",
            "    dataset. You can load the datasets as follows::\n",
            "\n",
            "        from sklearn.datasets import fetch_california_housing\n",
            "        housing = fetch_california_housing()\n",
            "\n",
            "    for the California housing dataset and::\n",
            "\n",
            "        from sklearn.datasets import fetch_openml\n",
            "        housing = fetch_openml(name=\"house_prices\", as_frame=True)\n",
            "\n",
            "    for the Ames housing dataset.\n",
            "    \n",
            "  warnings.warn(msg, category=FutureWarning)\n"
          ]
        }
      ],
      "source": [
        "import numpy as np\n",
        "from sklearn import datasets, linear_model\n",
        "import matplotlib.pyplot as plt\n",
        "boston = datasets.load_boston()"
      ]
    },
    {
      "cell_type": "code",
      "source": [
        "#########PREPARAR LA DATA REGRESION POLINOMIAL\n",
        "\n",
        "#Seleccionamos solamente la columna 6 del dataset\n",
        "X_p = boston.data[:, np.newaxis, 5]\n",
        "\n",
        "#Defino los datos correspondientes a las etiquetas\n",
        "y_p = boston.target"
      ],
      "metadata": {
        "id": "06FX6xj6XJk-"
      },
      "execution_count": 2,
      "outputs": []
    },
    {
      "cell_type": "code",
      "source": [
        "#Graficamos lso datos corespondientes\n",
        "plt.scatter(X_p, y_p)\n",
        "plt.show()"
      ],
      "metadata": {
        "colab": {
          "base_uri": "https://localhost:8080/",
          "height": 265
        },
        "id": "RIRLyr55Xj6v",
        "outputId": "1e0d27a7-7d3d-4d91-e08b-8edd27c99b00"
      },
      "execution_count": 3,
      "outputs": [
        {
          "output_type": "display_data",
          "data": {
            "text/plain": [
              "<Figure size 432x288 with 1 Axes>"
            ],
            "image/png": "[encoded data removed]"
          },
          "metadata": {
            "needs_background": "light"
          }
        }
      ]
    },
    {
      "cell_type": "code",
      "source": [
        "########IMPLEMENTACION DE REGRESION POLINOMIAL###3\n",
        "\n",
        "from sklearn.model_selection import train_test_split"
      ],
      "metadata": {
        "id": "d-8dBYhnXq_G"
      },
      "execution_count": 4,
      "outputs": []
    },
    {
      "cell_type": "code",
      "source": [
        "#separo los datos de \"train\" en entrenamiento y prubea para poder probar los algoritmos\n",
        "\n",
        "X_train_p, X_test_p, y_train_p, y_test_p = train_test_split(X_p, y_p, test_size = 0.2)"
      ],
      "metadata": {
        "id": "opZNkG8FX4vL"
      },
      "execution_count": 5,
      "outputs": []
    },
    {
      "cell_type": "code",
      "source": [
        "from sklearn.preprocessing import PolynomialFeatures"
      ],
      "metadata": {
        "id": "D-53M5_zYOXu"
      },
      "execution_count": 6,
      "outputs": []
    },
    {
      "cell_type": "code",
      "source": [
        "#Se define el grado del polinomio\n",
        "poli_reg = PolynomialFeatures(degree = 2)"
      ],
      "metadata": {
        "id": "6Ahe5tdBYdVs"
      },
      "execution_count": 7,
      "outputs": []
    },
    {
      "cell_type": "code",
      "source": [
        "# Se transforma las caracteristicas existentes en caracteristicas de maypr grado\n",
        "X_train_poli = poli_reg.fit_transform(X_train_p)\n",
        "X_test_poli = poli_reg.fit_transform(X_test_p)"
      ],
      "metadata": {
        "id": "C2wPETEgYpQk"
      },
      "execution_count": 8,
      "outputs": []
    },
    {
      "cell_type": "code",
      "source": [
        "#Defino el algoritmo a utilizar\n",
        "pr = linear_model.LinearRegression()"
      ],
      "metadata": {
        "id": "vDpyfZpkZEw1"
      },
      "execution_count": 9,
      "outputs": []
    },
    {
      "cell_type": "code",
      "source": [
        "#Entrena el modelo\n",
        "pr.fit(X_train_poli, y_train_p)"
      ],
      "metadata": {
        "colab": {
          "base_uri": "https://localhost:8080/"
        },
        "id": "58netE1oZfvM",
        "outputId": "cd524b75-ec4a-4320-dd9b-c7eec50365c9"
      },
      "execution_count": 10,
      "outputs": [
        {
          "output_type": "execute_result",
          "data": {
            "text/plain": [
              "LinearRegression()"
            ]
          },
          "metadata": {},
          "execution_count": 10
        }
      ]
    },
    {
      "cell_type": "code",
      "source": [
        "#Realizo una prediccion\n",
        "Y_pred_pr = pr.predict(X_test_poli)"
      ],
      "metadata": {
        "id": "aGNNDg_VZlPT"
      },
      "execution_count": 13,
      "outputs": []
    },
    {
      "cell_type": "code",
      "source": [
        "#graficamos los datos junto con el modelo\n",
        "plt.scatter(X_test_p, y_test_p)\n",
        "plt.plot(X_test_p, Y_pred_pr, color='red', linewidth = 3)\n",
        "plt.show()"
      ],
      "metadata": {
        "colab": {
          "base_uri": "https://localhost:8080/",
          "height": 265
        },
        "id": "QTGlKABKZ-hw",
        "outputId": "71db9b2a-9e99-4c04-9519-6541f276f76f"
      },
      "execution_count": 14,
      "outputs": [
        {
          "output_type": "display_data",
          "data": {
            "text/plain": [
              "<Figure size 432x288 with 1 Axes>"
            ],
            "image/png": "[encoded data removed]"
          },
          "metadata": {
            "needs_background": "light"
          }
        }
      ]
    },
    {
      "cell_type": "code",
      "source": [
        "print('DATOS DEL MODELO REGRESION POLINOMIAL')\n",
        "print()\n",
        "print('Valor de la pendiente o coeficiente \"a\":')\n",
        "print(pr.coef_)\n",
        "print('Valor de la interseccion o coeficiente \"b\":')\n",
        "print(pr.intercept_)\n",
        "print()\n",
        "print('Precision del modelo:')\n",
        "print(pr.score(X_train_poli, y_train_p))\n"
      ],
      "metadata": {
        "colab": {
          "base_uri": "https://localhost:8080/"
        },
        "id": "yEZsGZTtbPXb",
        "outputId": "79b32cc8-49e2-422f-c8fd-8fe740082cf0"
      },
      "execution_count": 15,
      "outputs": [
        {
          "output_type": "stream",
          "name": "stdout",
          "text": [
            "DATOS DEL MODELO REGRESION POLINOMIAL\n",
            "\n",
            "Valor de la pendiente o coeficiente \"a\":\n",
            "[  0.         -21.9462567    2.42925733]\n",
            "Valor de la interseccion o coeficiente \"b\":\n",
            "63.37499138021788\n",
            "\n",
            "Precision del modelo:\n",
            "0.5520847290701985\n"
          ]
        }
      ]
    },
    {
      "cell_type": "code",
      "source": [],
      "metadata": {
        "id": "chGyaQVqcCsa"
      },
      "execution_count": null,
      "outputs": []
    }
  ]
}