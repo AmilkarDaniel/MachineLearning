{
  "nbformat": 4,
  "nbformat_minor": 0,
  "metadata": {
    "colab": {
      "provenance": [],
      "authorship_tag": "ABX9TyN3Ib5H+MKsFRjYhZY5vnC7",
      "include_colab_link": true
    },
    "kernelspec": {
      "name": "python3",
      "display_name": "Python 3"
    },
    "language_info": {
      "name": "python"
    }
  },
  "cells": [
    {
      "cell_type": "markdown",
      "metadata": {
        "id": "view-in-github",
        "colab_type": "text"
      },
      "source": [
        "<a href=\"https://colab.research.google.com/github/AmilkarDaniel/MachineLearning/blob/main/Practices/ArbolesDeDecisionRegresion.ipynb\" target=\"_parent\"><img src=\"https://colab.research.google.com/assets/colab-badge.svg\" alt=\"Open In Colab\"/></a>"
      ]
    },
    {
      "cell_type": "code",
      "execution_count": 1,
      "metadata": {
        "colab": {
          "base_uri": "https://localhost:8080/"
        },
        "id": "CUzCK2pMUzzb",
        "outputId": "68028bdc-cca2-42ac-974c-f33a9f6ee47e"
      },
      "outputs": [
        {
          "output_type": "stream",
          "name": "stderr",
          "text": [
            "/usr/local/lib/python3.7/dist-packages/sklearn/utils/deprecation.py:87: FutureWarning: Function load_boston is deprecated; `load_boston` is deprecated in 1.0 and will be removed in 1.2.\n",
            "\n",
            "    The Boston housing prices dataset has an ethical problem. You can refer to\n",
            "    the documentation of this function for further details.\n",
            "\n",
            "    The scikit-learn maintainers therefore strongly discourage the use of this\n",
            "    dataset unless the purpose of the code is to study and educate about\n",
            "    ethical issues in data science and machine learning.\n",
            "\n",
            "    In this special case, you can fetch the dataset from the original\n",
            "    source::\n",
            "\n",
            "        import pandas as pd\n",
            "        import numpy as np\n",
            "\n",
            "\n",
            "        data_url = \"http://lib.stat.cmu.edu/datasets/boston\"\n",
            "        raw_df = pd.read_csv(data_url, sep=\"\\s+\", skiprows=22, header=None)\n",
            "        data = np.hstack([raw_df.values[::2, :], raw_df.values[1::2, :2]])\n",
            "        target = raw_df.values[1::2, 2]\n",
            "\n",
            "    Alternative datasets include the California housing dataset (i.e.\n",
            "    :func:`~sklearn.datasets.fetch_california_housing`) and the Ames housing\n",
            "    dataset. You can load the datasets as follows::\n",
            "\n",
            "        from sklearn.datasets import fetch_california_housing\n",
            "        housing = fetch_california_housing()\n",
            "\n",
            "    for the California housing dataset and::\n",
            "\n",
            "        from sklearn.datasets import fetch_openml\n",
            "        housing = fetch_openml(name=\"house_prices\", as_frame=True)\n",
            "\n",
            "    for the Ames housing dataset.\n",
            "    \n",
            "  warnings.warn(msg, category=FutureWarning)\n"
          ]
        }
      ],
      "source": [
        "import numpy as np\n",
        "from sklearn import datasets, linear_model\n",
        "import matplotlib.pyplot as plt\n",
        "boston = datasets.load_boston()"
      ]
    },
    {
      "cell_type": "code",
      "source": [
        "#Seleccionamos solamente la columna 6 del dataset\n",
        "X_adr = boston.data[:, np.newaxis, 5]\n",
        "\n",
        "#defino los datos correspondientes a las etiquetas\n",
        "y_adr = boston.target"
      ],
      "metadata": {
        "id": "4XktGa1sU300"
      },
      "execution_count": 2,
      "outputs": []
    },
    {
      "cell_type": "code",
      "source": [
        "#Graficamos los datos correspondientes\n",
        "plt.scatter(X_adr, y_adr)\n",
        "plt.show()"
      ],
      "metadata": {
        "colab": {
          "base_uri": "https://localhost:8080/",
          "height": 265
        },
        "id": "ezxG2l3-VTY-",
        "outputId": "54af32dc-6d03-42e6-ceea-4fc7c8720bf8"
      },
      "execution_count": 3,
      "outputs": [
        {
          "output_type": "display_data",
          "data": {
            "text/plain": [
              "<Figure size 432x288 with 1 Axes>"
            ],
            "image/png": "[encoded data removed]"
          },
          "metadata": {
            "needs_background": "light"
          }
        }
      ]
    },
    {
      "cell_type": "code",
      "source": [
        "########IMPLEMENTACIÓN DE VECTORES DE SOPORTE REGRESIÓN ##########\n",
        "from sklearn.model_selection import train_test_split\n",
        "#Separo los datos de \"train\" en entrenamiento y prueba para probar los algoritmos\n",
        "X_train, X_test, y_train, y_test = train_test_split(X_adr, y_adr, test_size=0.2)"
      ],
      "metadata": {
        "id": "dhxrQdzdVcZy"
      },
      "execution_count": 4,
      "outputs": []
    },
    {
      "cell_type": "code",
      "source": [
        "from sklearn.tree import DecisionTreeRegressor\n",
        "#Defino el algoritmo a utilizar\n",
        "adr = DecisionTreeRegressor(max_depth = 5)\n",
        "\n",
        "#Entreno al modelo\n",
        "adr.fit(X_train, y_train)"
      ],
      "metadata": {
        "colab": {
          "base_uri": "https://localhost:8080/"
        },
        "id": "64nH6vf4WANZ",
        "outputId": "b4f99d56-733f-4599-d2e6-23480cc33d25"
      },
      "execution_count": 5,
      "outputs": [
        {
          "output_type": "execute_result",
          "data": {
            "text/plain": [
              "DecisionTreeRegressor(max_depth=5)"
            ]
          },
          "metadata": {},
          "execution_count": 5
        }
      ]
    },
    {
      "cell_type": "code",
      "source": [
        "#Realizo una prediccion\n",
        "Y_pred = adr.predict(X_test)"
      ],
      "metadata": {
        "id": "bAuSqF6eWYO3"
      },
      "execution_count": 6,
      "outputs": []
    },
    {
      "cell_type": "code",
      "source": [
        "#Graficamos los datos de prueba junto con la prediccion\n",
        "X_grid = np.arange(min(X_test), max(X_test), 0.1)\n",
        "X_grid = X_grid.reshape((len(X_grid), 1))\n",
        "plt.scatter(X_test, y_test)\n",
        "plt.plot(X_grid, adr.predict(X_grid), color = 'red', linewidth = 3)\n",
        "plt.show()"
      ],
      "metadata": {
        "colab": {
          "base_uri": "https://localhost:8080/",
          "height": 265
        },
        "id": "eFtPIGFGWd-s",
        "outputId": "029a3615-93e8-4098-d1c6-2d863431069e"
      },
      "execution_count": 7,
      "outputs": [
        {
          "output_type": "display_data",
          "data": {
            "text/plain": [
              "<Figure size 432x288 with 1 Axes>"
            ],
            "image/png": "[encoded data removed]"
          },
          "metadata": {
            "needs_background": "light"
          }
        }
      ]
    },
    {
      "cell_type": "code",
      "source": [
        "print('DATOS DEL MODELO DE DECISION')\n",
        "print()\n",
        "print('Precision del modelo:')\n",
        "print(adr.score(X_train, y_train))"
      ],
      "metadata": {
        "colab": {
          "base_uri": "https://localhost:8080/"
        },
        "id": "EliVe6F-XRY3",
        "outputId": "6c022b60-97fb-42a1-9035-0a5f100cad61"
      },
      "execution_count": 8,
      "outputs": [
        {
          "output_type": "stream",
          "name": "stdout",
          "text": [
            "DATOS DEL MODELO DE DECISION\n",
            "\n",
            "Precision del modelo:\n",
            "0.6910349089597884\n"
          ]
        }
      ]
    },
    {
      "cell_type": "code",
      "source": [],
      "metadata": {
        "id": "4cjVc-UlXvPR"
      },
      "execution_count": null,
      "outputs": []
    }
  ]
}